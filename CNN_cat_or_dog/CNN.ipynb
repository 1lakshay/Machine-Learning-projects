{
 "cells": [
  {
   "cell_type": "code",
   "execution_count": 2,
   "id": "365413e3",
   "metadata": {},
   "outputs": [],
   "source": [
    "import tensorflow as tf \n",
    "from keras.preprocessing.image import ImageDataGenerator   # Image augmentation"
   ]
  },
  {
   "cell_type": "code",
   "execution_count": 3,
   "id": "3e348062",
   "metadata": {},
   "outputs": [
    {
     "data": {
      "text/plain": [
       "'2.15.0'"
      ]
     },
     "execution_count": 3,
     "metadata": {},
     "output_type": "execute_result"
    }
   ],
   "source": [
    "tf.__version__"
   ]
  },
  {
   "cell_type": "markdown",
   "id": "3c4366b5",
   "metadata": {},
   "source": [
    "## Preprocessing the Training set\n",
    "Preprocessing with technique:\n",
    "normalizing value of each pixel\n",
    "stretching by distorting the image\n",
    "zooming\n",
    "fipping"
   ]
  },
  {
   "cell_type": "code",
   "execution_count": 4,
   "id": "66a65b77",
   "metadata": {},
   "outputs": [],
   "source": [
    "train_datagen=ImageDataGenerator(\n",
    "rescale=1./255 ,   \n",
    "shear_range=0.2,\n",
    "zoom_range=0.2,\n",
    "horizontal_flip=True\n",
    ")"
   ]
  },
  {
   "cell_type": "code",
   "execution_count": 5,
   "id": "10231684",
   "metadata": {},
   "outputs": [
    {
     "name": "stdout",
     "output_type": "stream",
     "text": [
      "Found 8000 images belonging to 2 classes.\n"
     ]
    }
   ],
   "source": [
    "training_set = train_datagen.flow_from_directory(\n",
    "\"Part 2 - Convolutional Neural Networks/dataset/training_set\",\n",
    "    target_size=(64,64),\n",
    "    batch_size=32,\n",
    "    class_mode=\"binary\"\n",
    ")"
   ]
  },
  {
   "cell_type": "markdown",
   "id": "737e4106",
   "metadata": {},
   "source": [
    "## Preprocessing the Test set \n",
    "Only Normalizing the Pixel value \n",
    "And nothing as they are New Images for us "
   ]
  },
  {
   "cell_type": "code",
   "execution_count": 6,
   "id": "f4cb88d0",
   "metadata": {},
   "outputs": [
    {
     "name": "stdout",
     "output_type": "stream",
     "text": [
      "Found 2000 images belonging to 2 classes.\n"
     ]
    }
   ],
   "source": [
    "test_datagen=ImageDataGenerator(rescale=1./255)  # only feature scaing \n",
    "test_set = test_datagen.flow_from_directory(\n",
    "\"Part 2 - Convolutional Neural Networks/dataset/test_set\",\n",
    "target_size=(64,64),\n",
    "    batch_size=32,\n",
    "    class_mode='binary'\n",
    ")"
   ]
  },
  {
   "cell_type": "markdown",
   "id": "284e8fd7",
   "metadata": {},
   "source": [
    "## Building Architecture "
   ]
  },
  {
   "cell_type": "markdown",
   "id": "4f31e7fd",
   "metadata": {},
   "source": [
    "### Architecture made: Conv -> Pool -> Conv -> Conv -> Pool -> ANN"
   ]
  },
  {
   "cell_type": "code",
   "execution_count": 7,
   "id": "37c03101",
   "metadata": {},
   "outputs": [
    {
     "name": "stdout",
     "output_type": "stream",
     "text": [
      "WARNING:tensorflow:From C:\\tt\\lib\\site-packages\\keras\\src\\backend.py:873: The name tf.get_default_graph is deprecated. Please use tf.compat.v1.get_default_graph instead.\n",
      "\n"
     ]
    }
   ],
   "source": [
    "cnn = tf.keras.models.Sequential()"
   ]
  },
  {
   "cell_type": "code",
   "execution_count": 8,
   "id": "8d89b583",
   "metadata": {},
   "outputs": [],
   "source": [
    "cnn.add(tf.keras.layers.Conv2D(filters=32, kernel_size=3, activation=\"relu\", input_shape=[64,64,3]))"
   ]
  },
  {
   "cell_type": "code",
   "execution_count": 9,
   "id": "b8290c06",
   "metadata": {},
   "outputs": [
    {
     "name": "stdout",
     "output_type": "stream",
     "text": [
      "WARNING:tensorflow:From C:\\tt\\lib\\site-packages\\keras\\src\\layers\\pooling\\max_pooling2d.py:161: The name tf.nn.max_pool is deprecated. Please use tf.nn.max_pool2d instead.\n",
      "\n"
     ]
    }
   ],
   "source": [
    "cnn.add(tf.keras.layers.MaxPool2D(pool_size=2,strides=2))"
   ]
  },
  {
   "cell_type": "code",
   "execution_count": 10,
   "id": "ef49599b",
   "metadata": {},
   "outputs": [],
   "source": [
    "cnn.add(tf.keras.layers.Conv2D(filters=32, kernel_size=3, activation=\"relu\"))  \n",
    "# parameter- input_shape is removed as it will now take the input automaticaly from the pooling layer "
   ]
  },
  {
   "cell_type": "code",
   "execution_count": 11,
   "id": "6c21d58c",
   "metadata": {},
   "outputs": [],
   "source": [
    "cnn.add(tf.keras.layers.MaxPool2D(pool_size=2,strides=2))"
   ]
  },
  {
   "cell_type": "code",
   "execution_count": 12,
   "id": "db439484",
   "metadata": {},
   "outputs": [],
   "source": [
    "# FLattening layer\n",
    "cnn.add(tf.keras.layers.Flatten())"
   ]
  },
  {
   "cell_type": "code",
   "execution_count": 13,
   "id": "075d07ef",
   "metadata": {},
   "outputs": [],
   "source": [
    "# DOING FULL connection \n",
    "# adding ANN \n",
    "# units=128 -> no of neurons in hidden layer (NOT TOTAL)\n",
    "cnn.add(tf.keras.layers.Dense(units=128, activation=\"relu\"))"
   ]
  },
  {
   "cell_type": "code",
   "execution_count": 14,
   "id": "1f1c66f0",
   "metadata": {},
   "outputs": [],
   "source": [
    "# Adding OUTPUT layer \n",
    "cnn.add(tf.keras.layers.Dense(units=1,activation=\"sigmoid\"))"
   ]
  },
  {
   "cell_type": "code",
   "execution_count": 15,
   "id": "ba9fc7fc",
   "metadata": {},
   "outputs": [],
   "source": [
    "# TILL now eyes + Brain is created \n",
    "# NOw training have to be done \n"
   ]
  },
  {
   "cell_type": "markdown",
   "id": "31fa67d3",
   "metadata": {},
   "source": [
    "# Compiling: Configuring the model by giving the values of parameters like:\n",
    "### optimizer='adam' -> STOCHASTIC GRADIENT DESCENT \n",
    "### loss- calculate the diff between actual and predicted value , to find Gradient  which is used by optimizer\n",
    "### metrics- eval model performance used as a metric, by measuring proportion of the correct rediction out of total predictions"
   ]
  },
  {
   "cell_type": "code",
   "execution_count": 16,
   "id": "e9d3cd03",
   "metadata": {},
   "outputs": [
    {
     "name": "stdout",
     "output_type": "stream",
     "text": [
      "WARNING:tensorflow:From C:\\tt\\lib\\site-packages\\keras\\src\\optimizers\\__init__.py:309: The name tf.train.Optimizer is deprecated. Please use tf.compat.v1.train.Optimizer instead.\n",
      "\n"
     ]
    }
   ],
   "source": [
    "cnn.compile(optimizer='adam',loss='binary_crossentropy', metrics=['accuracy'])    \n",
    "# it configures the model for training by telling optimizer\n"
   ]
  },
  {
   "cell_type": "markdown",
   "id": "8961a260",
   "metadata": {},
   "source": [
    "# Training the model "
   ]
  },
  {
   "cell_type": "code",
   "execution_count": 19,
   "id": "77188d84",
   "metadata": {},
   "outputs": [
    {
     "name": "stdout",
     "output_type": "stream",
     "text": [
      "Epoch 1/25\n",
      "WARNING:tensorflow:From C:\\tt\\lib\\site-packages\\keras\\src\\utils\\tf_utils.py:492: The name tf.ragged.RaggedTensorValue is deprecated. Please use tf.compat.v1.ragged.RaggedTensorValue instead.\n",
      "\n",
      "WARNING:tensorflow:From C:\\tt\\lib\\site-packages\\keras\\src\\engine\\base_layer_utils.py:384: The name tf.executing_eagerly_outside_functions is deprecated. Please use tf.compat.v1.executing_eagerly_outside_functions instead.\n",
      "\n",
      "250/250 [==============================] - 77s 295ms/step - loss: 0.6792 - accuracy: 0.5851 - val_loss: 0.6400 - val_accuracy: 0.6675\n",
      "Epoch 2/25\n",
      "250/250 [==============================] - 66s 264ms/step - loss: 0.5999 - accuracy: 0.6819 - val_loss: 0.5579 - val_accuracy: 0.7245\n",
      "Epoch 3/25\n",
      "250/250 [==============================] - 65s 261ms/step - loss: 0.5592 - accuracy: 0.7091 - val_loss: 0.5380 - val_accuracy: 0.7265\n",
      "Epoch 4/25\n",
      "250/250 [==============================] - 64s 256ms/step - loss: 0.5284 - accuracy: 0.7312 - val_loss: 0.5462 - val_accuracy: 0.7360\n",
      "Epoch 5/25\n",
      "250/250 [==============================] - 66s 265ms/step - loss: 0.5071 - accuracy: 0.7501 - val_loss: 0.4856 - val_accuracy: 0.7600\n",
      "Epoch 6/25\n",
      "250/250 [==============================] - 60s 240ms/step - loss: 0.4920 - accuracy: 0.7595 - val_loss: 0.4942 - val_accuracy: 0.7645\n",
      "Epoch 7/25\n",
      "250/250 [==============================] - 61s 244ms/step - loss: 0.4682 - accuracy: 0.7784 - val_loss: 0.4674 - val_accuracy: 0.7810\n",
      "Epoch 8/25\n",
      "250/250 [==============================] - 59s 236ms/step - loss: 0.4633 - accuracy: 0.7769 - val_loss: 0.5048 - val_accuracy: 0.7630\n",
      "Epoch 9/25\n",
      "250/250 [==============================] - 60s 241ms/step - loss: 0.4372 - accuracy: 0.7981 - val_loss: 0.4692 - val_accuracy: 0.7790\n",
      "Epoch 10/25\n",
      "250/250 [==============================] - 59s 237ms/step - loss: 0.4164 - accuracy: 0.8075 - val_loss: 0.5113 - val_accuracy: 0.7785\n",
      "Epoch 11/25\n",
      "250/250 [==============================] - 59s 238ms/step - loss: 0.4119 - accuracy: 0.8069 - val_loss: 0.4941 - val_accuracy: 0.7750\n",
      "Epoch 12/25\n",
      "250/250 [==============================] - 57s 226ms/step - loss: 0.3956 - accuracy: 0.8221 - val_loss: 0.5063 - val_accuracy: 0.7655\n",
      "Epoch 13/25\n",
      "250/250 [==============================] - 57s 229ms/step - loss: 0.3786 - accuracy: 0.8306 - val_loss: 0.4418 - val_accuracy: 0.8090\n",
      "Epoch 14/25\n",
      "250/250 [==============================] - 56s 226ms/step - loss: 0.3731 - accuracy: 0.8325 - val_loss: 0.4643 - val_accuracy: 0.7935\n",
      "Epoch 15/25\n",
      "250/250 [==============================] - 57s 229ms/step - loss: 0.3585 - accuracy: 0.8386 - val_loss: 0.4740 - val_accuracy: 0.7930\n",
      "Epoch 16/25\n",
      "250/250 [==============================] - 56s 226ms/step - loss: 0.3406 - accuracy: 0.8485 - val_loss: 0.4557 - val_accuracy: 0.7980\n",
      "Epoch 17/25\n",
      "250/250 [==============================] - 58s 230ms/step - loss: 0.3298 - accuracy: 0.8520 - val_loss: 0.5003 - val_accuracy: 0.7985\n",
      "Epoch 18/25\n",
      "250/250 [==============================] - 57s 226ms/step - loss: 0.3197 - accuracy: 0.8612 - val_loss: 0.4634 - val_accuracy: 0.8050\n",
      "Epoch 19/25\n",
      "250/250 [==============================] - 57s 229ms/step - loss: 0.3026 - accuracy: 0.8721 - val_loss: 0.4984 - val_accuracy: 0.7970\n",
      "Epoch 20/25\n",
      "250/250 [==============================] - 56s 226ms/step - loss: 0.2855 - accuracy: 0.8755 - val_loss: 0.4965 - val_accuracy: 0.7985\n",
      "Epoch 21/25\n",
      "250/250 [==============================] - 56s 225ms/step - loss: 0.2850 - accuracy: 0.8790 - val_loss: 0.5272 - val_accuracy: 0.7985\n",
      "Epoch 22/25\n",
      "250/250 [==============================] - 57s 229ms/step - loss: 0.2704 - accuracy: 0.8865 - val_loss: 0.5177 - val_accuracy: 0.7940\n",
      "Epoch 23/25\n",
      "250/250 [==============================] - 56s 225ms/step - loss: 0.2499 - accuracy: 0.8967 - val_loss: 0.5153 - val_accuracy: 0.7955\n",
      "Epoch 24/25\n",
      "250/250 [==============================] - 58s 232ms/step - loss: 0.2486 - accuracy: 0.8940 - val_loss: 0.4982 - val_accuracy: 0.7990\n",
      "Epoch 25/25\n",
      "250/250 [==============================] - 56s 226ms/step - loss: 0.2279 - accuracy: 0.9059 - val_loss: 0.5076 - val_accuracy: 0.8050\n"
     ]
    },
    {
     "data": {
      "text/plain": [
       "<keras.src.callbacks.History at 0x23f70affd90>"
      ]
     },
     "execution_count": 19,
     "metadata": {},
     "output_type": "execute_result"
    }
   ],
   "source": [
    "cnn.fit(x=training_set, validation_data=test_set, epochs=25)"
   ]
  },
  {
   "cell_type": "code",
   "execution_count": 29,
   "id": "c15d75a4",
   "metadata": {},
   "outputs": [
    {
     "name": "stdout",
     "output_type": "stream",
     "text": [
      "1/1 [==============================] - 0s 77ms/step\n"
     ]
    }
   ],
   "source": [
    "import numpy as np\n",
    "from keras.preprocessing import image\n",
    "test_image = image.load_img('Part 2 - Convolutional Neural Networks/dataset/single_prediction/cat_or_dog_2.jpg', target_size = (64, 64))\n",
    "test_image = image.img_to_array(test_image)\n",
    "test_image = np.expand_dims(test_image, axis = 0)\n",
    "result = cnn.predict(test_image)\n",
    "training_set.class_indices\n",
    "if result[0][0] == 1:\n",
    "    prediction = 'dog'\n",
    "else:\n",
    "    prediction = 'cat'"
   ]
  },
  {
   "cell_type": "code",
   "execution_count": 30,
   "id": "5f2fcdea",
   "metadata": {},
   "outputs": [
    {
     "name": "stdout",
     "output_type": "stream",
     "text": [
      "cat\n"
     ]
    }
   ],
   "source": [
    "print(prediction)"
   ]
  },
  {
   "cell_type": "code",
   "execution_count": null,
   "id": "b78e1f91",
   "metadata": {},
   "outputs": [],
   "source": []
  }
 ],
 "metadata": {
  "kernelspec": {
   "display_name": "Python 3 (ipykernel)",
   "language": "python",
   "name": "python3"
  },
  "language_info": {
   "codemirror_mode": {
    "name": "ipython",
    "version": 3
   },
   "file_extension": ".py",
   "mimetype": "text/x-python",
   "name": "python",
   "nbconvert_exporter": "python",
   "pygments_lexer": "ipython3",
   "version": "3.9.13"
  }
 },
 "nbformat": 4,
 "nbformat_minor": 5
}
